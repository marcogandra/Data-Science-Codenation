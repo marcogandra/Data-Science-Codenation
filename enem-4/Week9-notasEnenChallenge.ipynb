{
 "cells": [
  {
   "cell_type": "markdown",
   "metadata": {},
   "source": [
    "# Base enem 2016\n",
    "## Predição se o aluno é treineiro.  \n",
    "\n",
    "## Primeiro teste:\n",
    "\n",
    "### * Somente a limpeza dos dados \n",
    "### * Sem balanceamento \n",
    "### * Regressão Logística\n",
    "\n",
    "Score obtido: 87.921225"
   ]
  },
  {
   "cell_type": "code",
   "execution_count": 104,
   "metadata": {},
   "outputs": [],
   "source": [
    "import pandas as pd\n",
    "import numpy as np\n",
    "import warnings\n",
    "\n",
    "from sklearn.preprocessing import OneHotEncoder\n",
    "from sklearn.linear_model import LogisticRegression\n",
    "\n",
    "warnings.filterwarnings('ignore')\n",
    "\n",
    "pd.set_option('display.max_columns', 300)\n",
    "pd.set_option('display.max_rows', 300)"
   ]
  },
  {
   "cell_type": "code",
   "execution_count": 105,
   "metadata": {},
   "outputs": [
    {
     "data": {
      "text/plain": [
       "((13730, 167), (4570, 43))"
      ]
     },
     "execution_count": 105,
     "metadata": {},
     "output_type": "execute_result"
    }
   ],
   "source": [
    "file_train = \"train.csv\"\n",
    "file_test = \"test.csv\"\n",
    "\n",
    "df_raw_train = pd.read_csv(file_train, index_col=False)\n",
    "df_raw_test = pd.read_csv(file_test, index_col=False)\n",
    "df_raw_train.shape, df_raw_test.shape"
   ]
  },
  {
   "cell_type": "code",
   "execution_count": 106,
   "metadata": {},
   "outputs": [],
   "source": [
    "columns_used=['NU_INSCRICAO','CO_UF_RESIDENCIA', 'SG_UF_RESIDENCIA', 'NU_IDADE', 'TP_SEXO', 'TP_COR_RACA', \n",
    "          'TP_NACIONALIDADE','TP_ST_CONCLUSAO','TP_ANO_CONCLUIU', 'TP_ESCOLA', 'TP_ENSINO',\n",
    "          'TP_PRESENCA_CN', 'TP_PRESENCA_CH', 'TP_PRESENCA_LC','NU_NOTA_CN', 'NU_NOTA_CH', \n",
    "          'NU_NOTA_LC','TP_LINGUA','TP_STATUS_REDACAO', 'NU_NOTA_COMP1', 'NU_NOTA_COMP2', \n",
    "          'NU_NOTA_COMP3','NU_NOTA_COMP4', 'NU_NOTA_COMP5', 'NU_NOTA_REDACAO','Q001', 'Q002',\n",
    "          'Q006', 'Q024', 'Q025', 'Q026', 'Q027', 'Q047', 'IN_TREINEIRO']\n",
    "\n",
    "numerical_vars = ['NU_NOTA_CN', 'NU_NOTA_CH', 'NU_NOTA_LC','NU_NOTA_COMP1', 'NU_NOTA_COMP2', 'NU_NOTA_COMP3', \n",
    "                  'NU_NOTA_COMP4','NU_NOTA_COMP5', 'NU_NOTA_REDACAO'] \n",
    "target = ['IN_TREINEIRO']"
   ]
  },
  {
   "cell_type": "code",
   "execution_count": 107,
   "metadata": {},
   "outputs": [],
   "source": [
    "df_train=df_raw_train[columns_used]\n",
    "df_train.drop(['SG_UF_RESIDENCIA','TP_ENSINO'], inplace=True, axis=1)\n",
    "\n",
    "df_test=df_raw_test[columns_used[:-1]]\n",
    "df_test.drop(['SG_UF_RESIDENCIA','TP_ENSINO'], inplace=True, axis=1)\n",
    "\n",
    "df_train[numerical_vars] = df_train[numerical_vars].fillna(0)\n",
    "df_test[numerical_vars] = df_test[numerical_vars].fillna(0)"
   ]
  },
  {
   "cell_type": "code",
   "execution_count": 108,
   "metadata": {},
   "outputs": [],
   "source": [
    "df_train_clean = pd.DataFrame(index=df_train.index)\n",
    "df_test_clean = pd.DataFrame(index=df_test.index)"
   ]
  },
  {
   "cell_type": "code",
   "execution_count": 109,
   "metadata": {},
   "outputs": [],
   "source": [
    "df_train_clean['NU_INSCRICAO'] = df_raw_train['NU_INSCRICAO']\n",
    "df_test_clean['NU_INSCRICAO'] = df_raw_test['NU_INSCRICAO']"
   ]
  },
  {
   "cell_type": "code",
   "execution_count": 110,
   "metadata": {},
   "outputs": [],
   "source": [
    "def create_encoder(column, prefix):\n",
    "\n",
    "    #encoder = OneHotEncoder()\n",
    "    #train_column_df = pd.DataFrame(encoder.fit_transform(df_train[[column]]).toarray())\n",
    "    #test_column_df = pd.DataFrame(encoder.fit_transform(df_test[[column]]).toarray())\n",
    "    \n",
    "    train_column_df = pd.get_dummies(df_train[column])\n",
    "    test_column_df = pd.get_dummies(df_test[column])\n",
    "    \n",
    "    train_name_columns = df_train[column].sort_values().unique()\n",
    "    train_name_columns_co = [str(prefix) + str(train_name_column) for train_name_column in train_name_columns]\n",
    "    \n",
    "    test_name_columns = df_test[column].sort_values().unique()\n",
    "    test_name_columns_co = [str(prefix) + str(test_name_column) for test_name_column in test_name_columns] \n",
    "    \n",
    "    train_column_df.columns=train_name_columns_co\n",
    "    test_column_df.columns=test_name_columns_co\n",
    "    \n",
    "    global df_train_clean\n",
    "    global df_test_clean\n",
    "    \n",
    "    df_train_clean = pd.concat([df_train_clean, train_column_df ], axis=1)\n",
    "    df_test_clean = pd.concat([df_test_clean, test_column_df ], axis=1)"
   ]
  },
  {
   "cell_type": "code",
   "execution_count": 111,
   "metadata": {},
   "outputs": [],
   "source": [
    "categorical_vars = {'CO_UF_RESIDENCIA' : 'co_uf_', 'TP_SEXO' : 'sexo_', 'TP_COR_RACA': 'raca_', 'TP_ST_CONCLUSAO': 'tp_st_con_', \n",
    "                    'TP_ANO_CONCLUIU': 'tp_ano_con_', 'TP_ESCOLA': 'tp_esc_','TP_PRESENCA_CN': 'tp_pres_cn', \n",
    "                    'TP_PRESENCA_CH': 'tp_pres_ch', 'TP_PRESENCA_LC': 'tp_pres_lc', 'TP_LINGUA': 'tp_ling_', \n",
    "                    'Q001': 'q001_', 'Q002': 'q002_', 'Q006': 'q006_', 'Q024': 'q024_',\n",
    "                    'Q025': 'q025_', 'Q026': 'q026_', 'Q047': 'q047_'}"
   ]
  },
  {
   "cell_type": "code",
   "execution_count": 112,
   "metadata": {},
   "outputs": [],
   "source": [
    "for column, prefix in categorical_vars.items():\n",
    "    create_encoder(column, prefix)"
   ]
  },
  {
   "cell_type": "code",
   "execution_count": 113,
   "metadata": {},
   "outputs": [],
   "source": [
    "numerical_vars = ['NU_NOTA_CN', 'NU_NOTA_CH', 'NU_NOTA_LC','NU_NOTA_COMP1', 'NU_NOTA_COMP2', 'NU_NOTA_COMP3', \n",
    "                  'NU_NOTA_COMP4','NU_NOTA_COMP5', 'NU_NOTA_REDACAO'] \n",
    "\n",
    "df_train_clean = pd.concat([df_train_clean, df_train[numerical_vars]], axis=1)\n",
    "df_test_clean = pd.concat([df_test_clean, df_test[numerical_vars]], axis=1)"
   ]
  },
  {
   "cell_type": "code",
   "execution_count": 115,
   "metadata": {},
   "outputs": [],
   "source": [
    "X_train = df_train_clean.loc[:,'co_uf_11':]\n",
    "y_train = df_train['IN_TREINEIRO']"
   ]
  },
  {
   "cell_type": "code",
   "execution_count": 116,
   "metadata": {},
   "outputs": [
    {
     "data": {
      "text/plain": [
       "((13730, 122), (13730,), (4570, 120))"
      ]
     },
     "execution_count": 116,
     "metadata": {},
     "output_type": "execute_result"
    }
   ],
   "source": [
    "X_test = df_test_clean.loc[:,'co_uf_11':]\n",
    "X_train.shape, y_train.shape, X_test.shape"
   ]
  },
  {
   "cell_type": "code",
   "execution_count": 117,
   "metadata": {},
   "outputs": [],
   "source": [
    "X_train_comp_X_test = X_train[X_test.columns]"
   ]
  },
  {
   "cell_type": "code",
   "execution_count": 118,
   "metadata": {},
   "outputs": [
    {
     "data": {
      "text/plain": [
       "((13730, 120), (13730,), (4570, 120))"
      ]
     },
     "execution_count": 118,
     "metadata": {},
     "output_type": "execute_result"
    }
   ],
   "source": [
    "X_train_comp_X_test.shape, y_train.shape, X_test.shape"
   ]
  },
  {
   "cell_type": "code",
   "execution_count": 119,
   "metadata": {},
   "outputs": [
    {
     "data": {
      "text/plain": [
       "LogisticRegression()"
      ]
     },
     "execution_count": 119,
     "metadata": {},
     "output_type": "execute_result"
    }
   ],
   "source": [
    "regressor = LogisticRegression()\n",
    "regressor.fit(X_train_comp_X_test, y_train)"
   ]
  },
  {
   "cell_type": "code",
   "execution_count": 97,
   "metadata": {},
   "outputs": [],
   "source": [
    "y_pred = regressor.predict(X_test)"
   ]
  },
  {
   "cell_type": "code",
   "execution_count": 98,
   "metadata": {},
   "outputs": [],
   "source": [
    "df_result_insc = pd.DataFrame(df_test_clean['NU_INSCRICAO'])"
   ]
  },
  {
   "cell_type": "code",
   "execution_count": 99,
   "metadata": {},
   "outputs": [],
   "source": [
    "resultado = pd.concat([df_result_insc, pd.DataFrame(np.round(y_pred,3))], axis=1)\n",
    "resultado.reset_index(inplace=True, drop=True)"
   ]
  },
  {
   "cell_type": "code",
   "execution_count": 100,
   "metadata": {},
   "outputs": [],
   "source": [
    "resultado.columns=['NU_INSCRICAO', 'IN_TREINEIRO']"
   ]
  },
  {
   "cell_type": "code",
   "execution_count": 103,
   "metadata": {},
   "outputs": [],
   "source": [
    "resultado.to_csv(\"answer.csv\", index=False)"
   ]
  }
 ],
 "metadata": {
  "kernelspec": {
   "display_name": "Python 3",
   "language": "python",
   "name": "python3"
  },
  "language_info": {
   "codemirror_mode": {
    "name": "ipython",
    "version": 3
   },
   "file_extension": ".py",
   "mimetype": "text/x-python",
   "name": "python",
   "nbconvert_exporter": "python",
   "pygments_lexer": "ipython3",
   "version": "3.6.9"
  }
 },
 "nbformat": 4,
 "nbformat_minor": 2
}
